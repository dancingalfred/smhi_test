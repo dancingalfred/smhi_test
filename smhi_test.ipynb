{
 "cells": [
  {
   "cell_type": "code",
   "execution_count": 25,
   "metadata": {},
   "outputs": [],
   "source": [
    "import pandas as pd\n",
    "import numpy as np\n",
    "import matplotlib.pyplot as plt\n",
    "import seaborn as sns; sns.set()\n",
    "\n",
    "from sklearn.ensemble import RandomForestClassifier\n",
    "from sklearn.model_selection import train_test_split\n",
    "from sklearn.metrics import confusion_matrix\n",
    "\n",
    "from sklearn.metrics import pairwise_distances_argmin\n",
    "\n",
    "\n",
    "set1 = 'C:/Users/robba/OneDrive/Skrivbord/Programmering/Python/Addiva/smhi/smhi_vasteras.csv'\n",
    "\n",
    "\n",
    "df = pd.read_csv(set1, sep= ';', header = 0)"
   ]
  },
  {
   "cell_type": "code",
   "execution_count": 26,
   "metadata": {},
   "outputs": [
    {
     "data": {
      "text/html": [
       "<div>\n",
       "<style scoped>\n",
       "    .dataframe tbody tr th:only-of-type {\n",
       "        vertical-align: middle;\n",
       "    }\n",
       "\n",
       "    .dataframe tbody tr th {\n",
       "        vertical-align: top;\n",
       "    }\n",
       "\n",
       "    .dataframe thead th {\n",
       "        text-align: right;\n",
       "    }\n",
       "</style>\n",
       "<table border=\"1\" class=\"dataframe\">\n",
       "  <thead>\n",
       "    <tr style=\"text-align: right;\">\n",
       "      <th></th>\n",
       "      <th>Datum</th>\n",
       "      <th>Tid (UTC)</th>\n",
       "      <th>Lufttemperatur</th>\n",
       "      <th>Kvalitet</th>\n",
       "    </tr>\n",
       "  </thead>\n",
       "  <tbody>\n",
       "    <tr>\n",
       "      <th>0</th>\n",
       "      <td>1858-12-01</td>\n",
       "      <td>07:00:00</td>\n",
       "      <td>0.0</td>\n",
       "      <td>G</td>\n",
       "    </tr>\n",
       "    <tr>\n",
       "      <th>1</th>\n",
       "      <td>1858-12-01</td>\n",
       "      <td>13:00:00</td>\n",
       "      <td>1.0</td>\n",
       "      <td>G</td>\n",
       "    </tr>\n",
       "    <tr>\n",
       "      <th>2</th>\n",
       "      <td>1858-12-01</td>\n",
       "      <td>20:00:00</td>\n",
       "      <td>2.0</td>\n",
       "      <td>G</td>\n",
       "    </tr>\n",
       "    <tr>\n",
       "      <th>3</th>\n",
       "      <td>1858-12-02</td>\n",
       "      <td>07:00:00</td>\n",
       "      <td>1.0</td>\n",
       "      <td>G</td>\n",
       "    </tr>\n",
       "    <tr>\n",
       "      <th>4</th>\n",
       "      <td>1858-12-02</td>\n",
       "      <td>13:00:00</td>\n",
       "      <td>1.8</td>\n",
       "      <td>G</td>\n",
       "    </tr>\n",
       "  </tbody>\n",
       "</table>\n",
       "</div>"
      ],
      "text/plain": [
       "        Datum Tid (UTC)  Lufttemperatur Kvalitet\n",
       "0  1858-12-01  07:00:00             0.0        G\n",
       "1  1858-12-01  13:00:00             1.0        G\n",
       "2  1858-12-01  20:00:00             2.0        G\n",
       "3  1858-12-02  07:00:00             1.0        G\n",
       "4  1858-12-02  13:00:00             1.8        G"
      ]
     },
     "execution_count": 26,
     "metadata": {},
     "output_type": "execute_result"
    }
   ],
   "source": [
    "df.head()"
   ]
  },
  {
   "cell_type": "code",
   "execution_count": 27,
   "metadata": {},
   "outputs": [
    {
     "name": "stdout",
     "output_type": "stream",
     "text": [
      "Datum har ett spann mellan 1858-12-01 och 2022-07-01\n",
      "Tid (UTC) har ett spann mellan 06:00:00 och 20:00:00\n",
      "Lufttemperatur har ett spann mellan -36.4 och 34.2\n",
      "Kvalitet har ett spann mellan G och Y\n"
     ]
    }
   ],
   "source": [
    "#Ser över de olika spann som finns i datasettet\n",
    "for col in df.columns: \n",
    "    print(f'{col} har ett spann mellan {min(df[col])} och {max(df[col])}')"
   ]
  },
  {
   "cell_type": "code",
   "execution_count": 28,
   "metadata": {},
   "outputs": [
    {
     "data": {
      "text/plain": [
       "0"
      ]
     },
     "execution_count": 28,
     "metadata": {},
     "output_type": "execute_result"
    }
   ],
   "source": [
    "#Räknar antal NaN i df datasetet\n",
    "missing_data1 = 0\n",
    "\n",
    "for i in df:\n",
    "    missing_data1 = missing_data1 + df[i].isna().sum() \n",
    "missing_data1"
   ]
  },
  {
   "cell_type": "code",
   "execution_count": 29,
   "metadata": {},
   "outputs": [
    {
     "data": {
      "text/html": [
       "<div>\n",
       "<style scoped>\n",
       "    .dataframe tbody tr th:only-of-type {\n",
       "        vertical-align: middle;\n",
       "    }\n",
       "\n",
       "    .dataframe tbody tr th {\n",
       "        vertical-align: top;\n",
       "    }\n",
       "\n",
       "    .dataframe thead th {\n",
       "        text-align: right;\n",
       "    }\n",
       "</style>\n",
       "<table border=\"1\" class=\"dataframe\">\n",
       "  <thead>\n",
       "    <tr style=\"text-align: right;\">\n",
       "      <th></th>\n",
       "      <th>Datum</th>\n",
       "      <th>Tid (UTC)</th>\n",
       "      <th>Lufttemperatur</th>\n",
       "      <th>Kvalitet</th>\n",
       "    </tr>\n",
       "  </thead>\n",
       "  <tbody>\n",
       "    <tr>\n",
       "      <th>119864</th>\n",
       "      <td>2010-09-19</td>\n",
       "      <td>06:00:00</td>\n",
       "      <td>7.9</td>\n",
       "      <td>Y</td>\n",
       "    </tr>\n",
       "    <tr>\n",
       "      <th>120595</th>\n",
       "      <td>2011-09-19</td>\n",
       "      <td>18:00:00</td>\n",
       "      <td>13.7</td>\n",
       "      <td>Y</td>\n",
       "    </tr>\n",
       "    <tr>\n",
       "      <th>121733</th>\n",
       "      <td>2013-04-18</td>\n",
       "      <td>06:00:00</td>\n",
       "      <td>5.6</td>\n",
       "      <td>Y</td>\n",
       "    </tr>\n",
       "    <tr>\n",
       "      <th>122483</th>\n",
       "      <td>2014-05-06</td>\n",
       "      <td>06:00:00</td>\n",
       "      <td>5.0</td>\n",
       "      <td>Y</td>\n",
       "    </tr>\n",
       "    <tr>\n",
       "      <th>123261</th>\n",
       "      <td>2015-05-30</td>\n",
       "      <td>06:00:00</td>\n",
       "      <td>11.2</td>\n",
       "      <td>Y</td>\n",
       "    </tr>\n",
       "    <tr>\n",
       "      <th>124284</th>\n",
       "      <td>2016-10-22</td>\n",
       "      <td>18:00:00</td>\n",
       "      <td>3.0</td>\n",
       "      <td>Y</td>\n",
       "    </tr>\n",
       "  </tbody>\n",
       "</table>\n",
       "</div>"
      ],
      "text/plain": [
       "             Datum Tid (UTC)  Lufttemperatur Kvalitet\n",
       "119864  2010-09-19  06:00:00             7.9        Y\n",
       "120595  2011-09-19  18:00:00            13.7        Y\n",
       "121733  2013-04-18  06:00:00             5.6        Y\n",
       "122483  2014-05-06  06:00:00             5.0        Y\n",
       "123261  2015-05-30  06:00:00            11.2        Y\n",
       "124284  2016-10-22  18:00:00             3.0        Y"
      ]
     },
     "execution_count": 29,
     "metadata": {},
     "output_type": "execute_result"
    }
   ],
   "source": [
    "s = df.loc[df['Kvalitet'] == \"Y\"]\n",
    "s.head(10)"
   ]
  },
  {
   "cell_type": "code",
   "execution_count": 30,
   "metadata": {},
   "outputs": [
    {
     "data": {
      "text/plain": [
       "(6, 4)"
      ]
     },
     "execution_count": 30,
     "metadata": {},
     "output_type": "execute_result"
    }
   ],
   "source": [
    "s.shape"
   ]
  },
  {
   "cell_type": "code",
   "execution_count": 31,
   "metadata": {},
   "outputs": [
    {
     "name": "stdout",
     "output_type": "stream",
     "text": [
      "             Datum Tid (UTC)  Lufttemperatur Kvalitet\n",
      "123327  2015-07-02  06:00:00            21.5        G\n",
      "123328  2015-07-02  18:00:00            25.5        G\n",
      "123329  2015-07-03  06:00:00            22.2        G\n",
      "123330  2015-07-03  18:00:00            23.0        G\n",
      "123331  2015-07-04  06:00:00            23.2        G\n",
      "...            ...       ...             ...      ...\n",
      "128435  2022-06-29  06:00:00            18.0        G\n",
      "128436  2022-06-29  18:00:00            21.5        G\n",
      "128437  2022-06-30  06:00:00            21.1        G\n",
      "128438  2022-06-30  18:00:00            24.1        G\n",
      "128439  2022-07-01  06:00:00            19.2        G\n",
      "\n",
      "[5113 rows x 4 columns]\n"
     ]
    }
   ],
   "source": [
    "mask = (df['Datum'] > '2015-07-01') & (df['Datum'] <= '2022-07-01')\n",
    "new_df = df.loc[mask]\n",
    "print(df.loc[mask])"
   ]
  },
  {
   "cell_type": "code",
   "execution_count": 32,
   "metadata": {},
   "outputs": [
    {
     "data": {
      "text/html": [
       "<div>\n",
       "<style scoped>\n",
       "    .dataframe tbody tr th:only-of-type {\n",
       "        vertical-align: middle;\n",
       "    }\n",
       "\n",
       "    .dataframe tbody tr th {\n",
       "        vertical-align: top;\n",
       "    }\n",
       "\n",
       "    .dataframe thead th {\n",
       "        text-align: right;\n",
       "    }\n",
       "</style>\n",
       "<table border=\"1\" class=\"dataframe\">\n",
       "  <thead>\n",
       "    <tr style=\"text-align: right;\">\n",
       "      <th></th>\n",
       "      <th>Datum</th>\n",
       "      <th>Tid (UTC)</th>\n",
       "      <th>Lufttemperatur</th>\n",
       "      <th>Kvalitet</th>\n",
       "    </tr>\n",
       "  </thead>\n",
       "  <tbody>\n",
       "    <tr>\n",
       "      <th>123327</th>\n",
       "      <td>2015-07-02</td>\n",
       "      <td>06:00:00</td>\n",
       "      <td>21.5</td>\n",
       "      <td>G</td>\n",
       "    </tr>\n",
       "    <tr>\n",
       "      <th>123328</th>\n",
       "      <td>2015-07-02</td>\n",
       "      <td>18:00:00</td>\n",
       "      <td>25.5</td>\n",
       "      <td>G</td>\n",
       "    </tr>\n",
       "    <tr>\n",
       "      <th>123329</th>\n",
       "      <td>2015-07-03</td>\n",
       "      <td>06:00:00</td>\n",
       "      <td>22.2</td>\n",
       "      <td>G</td>\n",
       "    </tr>\n",
       "    <tr>\n",
       "      <th>123330</th>\n",
       "      <td>2015-07-03</td>\n",
       "      <td>18:00:00</td>\n",
       "      <td>23.0</td>\n",
       "      <td>G</td>\n",
       "    </tr>\n",
       "    <tr>\n",
       "      <th>123331</th>\n",
       "      <td>2015-07-04</td>\n",
       "      <td>06:00:00</td>\n",
       "      <td>23.2</td>\n",
       "      <td>G</td>\n",
       "    </tr>\n",
       "  </tbody>\n",
       "</table>\n",
       "</div>"
      ],
      "text/plain": [
       "             Datum Tid (UTC)  Lufttemperatur Kvalitet\n",
       "123327  2015-07-02  06:00:00            21.5        G\n",
       "123328  2015-07-02  18:00:00            25.5        G\n",
       "123329  2015-07-03  06:00:00            22.2        G\n",
       "123330  2015-07-03  18:00:00            23.0        G\n",
       "123331  2015-07-04  06:00:00            23.2        G"
      ]
     },
     "execution_count": 32,
     "metadata": {},
     "output_type": "execute_result"
    }
   ],
   "source": [
    "new_df.head()"
   ]
  },
  {
   "cell_type": "code",
   "execution_count": 33,
   "metadata": {},
   "outputs": [
    {
     "data": {
      "text/plain": [
       "array([[<AxesSubplot:title={'center':'Lufttemperatur'}>]], dtype=object)"
      ]
     },
     "execution_count": 33,
     "metadata": {},
     "output_type": "execute_result"
    },
    {
     "data": {
      "image/png": "[encoded data removed]",
      "text/plain": [
       "<Figure size 432x288 with 1 Axes>"
      ]
     },
     "metadata": {},
     "output_type": "display_data"
    }
   ],
   "source": [
    "new_df.hist(column='Lufttemperatur')"
   ]
  },
  {
   "cell_type": "code",
   "execution_count": 42,
   "metadata": {},
   "outputs": [],
   "source": [
    "#Delar upp datan i X och y där X är all data utom quality och y är endast kolumnen quality som vi är facit\n",
    "\n",
    "X = new_df.values[:,:]\n",
    "y = new_df.values[:,2]"
   ]
  },
  {
   "cell_type": "code",
   "execution_count": 43,
   "metadata": {},
   "outputs": [],
   "source": [
    "#Sedan delar jag in datan i träning och testset och sätter ett randomstate för kontinuitet\n",
    "X_train, X_test, y_train, y_test = train_test_split(X,y,test_size=0.2, random_state=42)"
   ]
  },
  {
   "cell_type": "code",
   "execution_count": 45,
   "metadata": {},
   "outputs": [],
   "source": [
    "# clf = RandomForestClassifier(random_state=42)\n",
    "# clf.fit(X_train, y_train)"
   ]
  },
  {
   "cell_type": "code",
   "execution_count": null,
   "metadata": {},
   "outputs": [],
   "source": []
  },
  {
   "cell_type": "code",
   "execution_count": null,
   "metadata": {},
   "outputs": [],
   "source": []
  }
 ],
 "metadata": {
  "kernelspec": {
   "display_name": "Python 3.9.7 64-bit",
   "language": "python",
   "name": "python3"
  },
  "language_info": {
   "codemirror_mode": {
    "name": "ipython",
    "version": 3
   },
   "file_extension": ".py",
   "mimetype": "text/x-python",
   "name": "python",
   "nbconvert_exporter": "python",
   "pygments_lexer": "ipython3",
   "version": "3.9.7"
  },
  "orig_nbformat": 4,
  "vscode": {
   "interpreter": {
    "hash": "b7d0ae9072e67a96c610d6e4438213a5c0c9ea567648e0930f38dd128137f2d2"
   }
  }
 },
 "nbformat": 4,
 "nbformat_minor": 2
}
