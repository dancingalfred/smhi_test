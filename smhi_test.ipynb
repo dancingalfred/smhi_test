{
 "cells": [
  {
   "cell_type": "code",
   "execution_count": null,
   "metadata": {},
   "outputs": [],
   "source": []
  }
 ],
 "metadata": {
  "kernelspec": {
   "display_name": "Python 3.9.7 64-bit",
   "language": "python",
   "name": "python3"
  },
  "language_info": {
   "name": "python",
   "version": "3.9.7"
  },
  "orig_nbformat": 4,
  "vscode": {
   "interpreter": {
    "hash": "b7d0ae9072e67a96c610d6e4438213a5c0c9ea567648e0930f38dd128137f2d2"
   }
  }
 },
 "nbformat": 4,
 "nbformat_minor": 2
}
